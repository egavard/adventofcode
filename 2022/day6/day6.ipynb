{
 "cells": [
  {
   "cell_type": "markdown",
   "metadata": {
    "pycharm": {
     "name": "#%% md\n"
    }
   },
   "source": [
    "### Day 6: Tuning Trouble\n",
    "The preparations are finally complete; you and the Elves leave camp on foot and begin to make your way toward the star fruit grove.\n",
    "\n",
    "As you move through the dense undergrowth, one of the Elves gives you a handheld device. He says that it has many fancy features, but the most important one to set up right now is the communication system.\n",
    "\n",
    "However, because he's heard you have significant experience dealing with signal-based systems, he convinced the other Elves that it would be okay to give you their one malfunctioning device - surely you'll have no problem fixing it.\n",
    "\n",
    "As if inspired by comedic timing, the device emits a few colorful sparks.\n",
    "\n",
    "To be able to communicate with the Elves, the device needs to lock on to their signal. The signal is a series of seemingly-random characters that the device receives one at a time.\n",
    "\n",
    "To fix the communication system, you need to add a subroutine to the device that detects a start-of-packet marker in the datastream. In the protocol being used by the Elves, the start of a packet is indicated by a sequence of four characters that are all different.\n",
    "\n",
    "The device will send your subroutine a datastream buffer (your puzzle input); your subroutine needs to identify the first position where the four most recently received characters were all different. Specifically, it needs to report the number of characters from the beginning of the buffer to the end of the first such four-character marker.\n",
    "\n",
    "For example, suppose you receive the following datastream buffer:\n",
    "\n",
    "`mjqjpqmgbljsphdztnvjfqwrcgsmlb`\n",
    "After the first three characters (`mjq`) have been received, there haven't been enough characters received yet to find the marker. The first time a marker could occur is after the fourth character is received, making the most recent four characters `mjqj`. Because `j` is repeated, this isn't a marker.\n",
    "\n",
    "The first time a marker appears is after the seventh character arrives. Once it does, the last four characters received are `jpqm`, which are all different. In this case, your subroutine should report the value `7`, because the first start-of-packet marker is complete after `7` characters have been processed.\n",
    "\n",
    "Here are a few more examples:\n",
    "\n",
    "- `bvwbjplbgvbhsrlpgdmjqwftvncz`: first marker after character `5`\n",
    "- `nppdvjthqldpwncqszvftbrmjlhg`: first marker after character `6`\n",
    "- `nznrnfrfntjfmvfwmzdfjlvtqnbhcprsg`: first marker after character `10`\n",
    "- `zcfzfwzzqfrljwzlrfnpqdbhtmscgvjw`: first marker after character `11`\n",
    "\n",
    "How many characters need to be processed before the first start-of-packet marker is detected?\n",
    "\n"
   ]
  },
  {
   "cell_type": "code",
   "execution_count": 23,
   "metadata": {
    "pycharm": {
     "name": "#%%\n"
    }
   },
   "outputs": [
    {
     "name": "stdout",
     "output_type": "stream",
     "text": [
      "1651\n",
      "5 5\n",
      "6 6\n",
      "10 10\n",
      "11 11\n"
     ]
    }
   ],
   "source": [
    "def check_char_unicity(str):\n",
    "    checked_chars = []\n",
    "    for character in str:\n",
    "        try:\n",
    "            checked_chars.index(character)\n",
    "            return False\n",
    "        except ValueError:\n",
    "            checked_chars.append(character)\n",
    "\n",
    "    return True\n",
    "\n",
    "\n",
    "def read_marker(_line):\n",
    "    cpt = 4\n",
    "    for char in range(0, len(_line)):\n",
    "        chars = _line[char:char + 4]\n",
    "        if (check_char_unicity(chars)):\n",
    "            return cpt\n",
    "        cpt += 1\n",
    "\n",
    "\n",
    "with open(\"day6.txt\") as file_content:\n",
    "    content = file_content.readline()\n",
    "    print(read_marker(content))\n",
    "    print(read_marker(\"bvwbjplbgvbhsrlpgdmjqwftvncz\"), 5)\n",
    "    print(read_marker(\"nppdvjthqldpwncqszvftbrmjlhg\"), 6)\n",
    "    print(read_marker(\"nznrnfrfntjfmvfwmzdfjlvtqnbhcprsg\"), 10)\n",
    "    print(read_marker(\"zcfzfwzzqfrljwzlrfnpqdbhtmscgvjw\"), 11)\n"
   ]
  },
  {
   "cell_type": "code",
   "execution_count": 30,
   "metadata": {
    "pycharm": {
     "name": "#%%\n"
    }
   },
   "outputs": [
    {
     "name": "stdout",
     "output_type": "stream",
     "text": [
      "3837\n",
      "19 19\n",
      "23 23\n",
      "23 23\n",
      "29 29\n",
      "26 26\n"
     ]
    }
   ],
   "source": [
    "def read_message_marker(_line, length):\n",
    "    cpt = length\n",
    "    for char in range(0, len(_line)):\n",
    "        chars = _line[char:char + length]\n",
    "        if check_char_unicity(chars):\n",
    "            return cpt\n",
    "        cpt += 1\n",
    "\n",
    "\n",
    "with open(\"day6.txt\") as file_content:\n",
    "    content = file_content.readline()\n",
    "    print(read_message_marker(content,14))\n",
    "    print(read_message_marker(\"mjqjpqmgbljsphdztnvjfqwrcgsmlb\", 14), 19)\n",
    "    print(read_message_marker(\"bvwbjplbgvbhsrlpgdmjqwftvncz\", 14), 23)\n",
    "    print(read_message_marker(\"nppdvjthqldpwncqszvftbrmjlhg\", 14), 23)\n",
    "    print(read_message_marker(\"nznrnfrfntjfmvfwmzdfjlvtqnbhcprsg\", 14), 29)\n",
    "    print(read_message_marker(\"zcfzfwzzqfrljwzlrfnpqdbhtmscgvjw\", 14), 26)\n"
   ]
  },
  {
   "cell_type": "code",
   "execution_count": null,
   "outputs": [],
   "source": [],
   "metadata": {
    "collapsed": false,
    "pycharm": {
     "name": "#%%\n"
    }
   }
  },
  {
   "cell_type": "code",
   "execution_count": null,
   "metadata": {
    "collapsed": true,
    "pycharm": {
     "name": "#%%\n"
    }
   },
   "outputs": [],
   "source": []
  }
 ],
 "metadata": {
  "kernelspec": {
   "display_name": "Python 3 (ipykernel)",
   "language": "python",
   "name": "python3"
  },
  "language_info": {
   "codemirror_mode": {
    "name": "ipython",
    "version": 3
   },
   "file_extension": ".py",
   "mimetype": "text/x-python",
   "name": "python",
   "nbconvert_exporter": "python",
   "pygments_lexer": "ipython3",
   "version": "3.10.2"
  }
 },
 "nbformat": 4,
 "nbformat_minor": 1
}